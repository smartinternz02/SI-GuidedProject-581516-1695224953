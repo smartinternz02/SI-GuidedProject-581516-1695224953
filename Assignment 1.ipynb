{
 "cells": [
  {
   "cell_type": "code",
   "execution_count": 2,
   "id": "a3e752f2",
   "metadata": {},
   "outputs": [
    {
     "name": "stdout",
     "output_type": "stream",
     "text": [
      "          A         B         C         D\n",
      "0  1.331587  0.715279 -1.545400 -0.008384\n",
      "1  0.621336 -0.720086  0.265512  0.108549\n",
      "2  0.004291 -0.174600  0.433026  1.203037\n",
      "3 -0.965066  1.028274  0.228630  0.445138\n"
     ]
    }
   ],
   "source": [
    "# Ques1\n",
    "import pandas as pd\n",
    "import numpy as np\n",
    "\n",
    "np.random.seed(10)\n",
    "df = pd.DataFrame(np.random.randn(4, 4), columns=['A', 'B', 'C', 'D'])\n",
    "print(df)"
   ]
  },
  {
   "cell_type": "code",
   "execution_count": 3,
   "id": "b030908c",
   "metadata": {},
   "outputs": [
    {
     "name": "stdout",
     "output_type": "stream",
     "text": [
      "   Random value 1  Random value 2  Random value 3  Random value 4\n",
      "0       -1.136602        0.135137        1.484537       -1.079805\n",
      "1       -1.977728       -1.743372        0.266070        2.384967\n",
      "2        1.123691        1.672622        0.099149        1.397996\n",
      "3       -0.271248        0.613204       -0.267317       -0.549309\n"
     ]
    }
   ],
   "source": [
    "# Ques2\n",
    "import pandas as pd\n",
    "\n",
    "df = pd.DataFrame(np.random.randn(4, 4), columns=['A', 'B', 'C', 'D'])\n",
    "\n",
    "df = df.rename(columns={'A': 'Random value 1',\n",
    "                         'B': 'Random value 2',\n",
    "                         'C': 'Random value 3',\n",
    "                         'D': 'Random value 4'})\n",
    "\n",
    "print(df)"
   ]
  },
  {
   "cell_type": "code",
   "execution_count": 4,
   "id": "25edcd58",
   "metadata": {},
   "outputs": [
    {
     "name": "stdout",
     "output_type": "stream",
     "text": [
      "       Random value 1  Random value 2  Random value 3  Random value 4\n",
      "count        4.000000        4.000000        4.000000        4.000000\n",
      "mean         0.097140       -0.344336        0.321593       -0.178531\n",
      "std          0.638568        0.107686        1.136469        0.510953\n",
      "min         -0.804591       -0.476142       -0.939433       -0.731970\n",
      "25%         -0.101617       -0.382189       -0.489214       -0.549995\n",
      "50%          0.266459       -0.344252        0.458666       -0.147162\n",
      "75%          0.465215       -0.306399        1.269472        0.224302\n",
      "max          0.660232       -0.212698        1.308473        0.312170\n"
     ]
    }
   ],
   "source": [
    "# Ques3\n",
    "import pandas as pd\n",
    "\n",
    "df = pd.DataFrame(np.random.randn(4, 4), columns=['Random value 1', 'Random value 2', 'Random value 3', 'Random value 4'])\n",
    "\n",
    "df_stats = df.describe()\n",
    "\n",
    "print(df_stats)"
   ]
  },
  {
   "cell_type": "code",
   "execution_count": 5,
   "id": "4a242017",
   "metadata": {},
   "outputs": [
    {
     "name": "stdout",
     "output_type": "stream",
     "text": [
      "   Random value 1  Random value 2  Random value 3  Random value 4\n",
      "0           False           False           False           False\n",
      "1           False           False           False           False\n",
      "2           False           False           False           False\n",
      "3           False           False           False           False\n"
     ]
    }
   ],
   "source": [
    "# Ques4\n",
    "import pandas as pd\n",
    "\n",
    "df = pd.DataFrame(np.random.randn(4, 4), columns=['Random value 1', 'Random value 2', 'Random value 3', 'Random value 4'])\n",
    "\n",
    "df_isnull = df.isnull()\n",
    "\n",
    "print(df_isnull)"
   ]
  },
  {
   "cell_type": "code",
   "execution_count": 6,
   "id": "2b7aef62",
   "metadata": {},
   "outputs": [
    {
     "data": {
      "text/html": [
       "<div>\n",
       "<style scoped>\n",
       "    .dataframe tbody tr th:only-of-type {\n",
       "        vertical-align: middle;\n",
       "    }\n",
       "\n",
       "    .dataframe tbody tr th {\n",
       "        vertical-align: top;\n",
       "    }\n",
       "\n",
       "    .dataframe thead th {\n",
       "        text-align: right;\n",
       "    }\n",
       "</style>\n",
       "<table border=\"1\" class=\"dataframe\">\n",
       "  <thead>\n",
       "    <tr style=\"text-align: right;\">\n",
       "      <th></th>\n",
       "      <th>Random value 2</th>\n",
       "      <th>Random value 3</th>\n",
       "    </tr>\n",
       "  </thead>\n",
       "  <tbody>\n",
       "    <tr>\n",
       "      <th>0</th>\n",
       "      <td>-0.529296</td>\n",
       "      <td>1.046183</td>\n",
       "    </tr>\n",
       "    <tr>\n",
       "      <th>1</th>\n",
       "      <td>-0.121906</td>\n",
       "      <td>0.319356</td>\n",
       "    </tr>\n",
       "    <tr>\n",
       "      <th>2</th>\n",
       "      <td>0.989072</td>\n",
       "      <td>0.314754</td>\n",
       "    </tr>\n",
       "    <tr>\n",
       "      <th>3</th>\n",
       "      <td>0.620601</td>\n",
       "      <td>-1.045133</td>\n",
       "    </tr>\n",
       "  </tbody>\n",
       "</table>\n",
       "</div>"
      ],
      "text/plain": [
       "   Random value 2  Random value 3\n",
       "0       -0.529296        1.046183\n",
       "1       -0.121906        0.319356\n",
       "2        0.989072        0.314754\n",
       "3        0.620601       -1.045133"
      ]
     },
     "execution_count": 6,
     "metadata": {},
     "output_type": "execute_result"
    }
   ],
   "source": [
    "# Ques5\n",
    "import pandas as pd\n",
    "\n",
    "df = pd.DataFrame(np.random.randn(4, 4), columns=['Random value 1', 'Random value 2', 'Random value 3', 'Random value 4'])\n",
    "\n",
    "df[['Random value 2', 'Random value 3']]"
   ]
  },
  {
   "cell_type": "code",
   "execution_count": null,
   "id": "da743884",
   "metadata": {},
   "outputs": [],
   "source": []
  },
  {
   "cell_type": "code",
   "execution_count": null,
   "id": "d86cdc19",
   "metadata": {},
   "outputs": [],
   "source": []
  },
  {
   "cell_type": "code",
   "execution_count": null,
   "id": "d70f9306",
   "metadata": {},
   "outputs": [],
   "source": []
  },
  {
   "cell_type": "code",
   "execution_count": null,
   "id": "27e8fbc7",
   "metadata": {},
   "outputs": [],
   "source": []
  }
 ],
 "metadata": {
  "kernelspec": {
   "display_name": "Python 3 (ipykernel)",
   "language": "python",
   "name": "python3"
  },
  "language_info": {
   "codemirror_mode": {
    "name": "ipython",
    "version": 3
   },
   "file_extension": ".py",
   "mimetype": "text/x-python",
   "name": "python",
   "nbconvert_exporter": "python",
   "pygments_lexer": "ipython3",
   "version": "3.10.9"
  }
 },
 "nbformat": 4,
 "nbformat_minor": 5
}
